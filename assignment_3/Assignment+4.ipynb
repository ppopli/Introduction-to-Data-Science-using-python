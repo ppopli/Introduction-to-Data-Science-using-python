{
 "cells": [
  {
   "cell_type": "markdown",
   "metadata": {},
   "source": [
    "---\n",
    "\n",
    "_You are currently looking at **version 1.1** of this notebook. To download notebooks and datafiles, as well as get help on Jupyter notebooks in the Coursera platform, visit the [Jupyter Notebook FAQ](https://www.coursera.org/learn/python-data-analysis/resources/0dhYG) course resource._\n",
    "\n",
    "---"
   ]
  },
  {
   "cell_type": "code",
   "execution_count": 4,
   "metadata": {
    "collapsed": true
   },
   "outputs": [],
   "source": [
    "import pandas as pd\n",
    "import numpy as np\n",
    "from scipy.stats import ttest_ind"
   ]
  },
  {
   "cell_type": "markdown",
   "metadata": {},
   "source": [
    "# Assignment 4 - Hypothesis Testing\n",
    "This assignment requires more individual learning than previous assignments - you are encouraged to check out the [pandas documentation](http://pandas.pydata.org/pandas-docs/stable/) to find functions or methods you might not have used yet, or ask questions on [Stack Overflow](http://stackoverflow.com/) and tag them as pandas and python related. And of course, the discussion forums are open for interaction with your peers and the course staff.\n",
    "\n",
    "Definitions:\n",
    "* A _quarter_ is a specific three month period, Q1 is January through March, Q2 is April through June, Q3 is July through September, Q4 is October through December.\n",
    "* A _recession_ is defined as starting with two consecutive quarters of GDP decline, and ending with two consecutive quarters of GDP growth.\n",
    "* A _recession bottom_ is the quarter within a recession which had the lowest GDP.\n",
    "* A _university town_ is a city which has a high percentage of university students compared to the total population of the city.\n",
    "\n",
    "**Hypothesis**: University towns have their mean housing prices less effected by recessions. Run a t-test to compare the ratio of the mean price of houses in university towns the quarter before the recession starts compared to the recession bottom. (`price_ratio=quarter_before_recession/recession_bottom`)\n",
    "\n",
    "The following data files are available for this assignment:\n",
    "* From the [Zillow research data site](http://www.zillow.com/research/data/) there is housing data for the United States. In particular the datafile for [all homes at a city level](http://files.zillowstatic.com/research/public/City/City_Zhvi_AllHomes.csv), ```City_Zhvi_AllHomes.csv```, has median home sale prices at a fine grained level.\n",
    "* From the Wikipedia page on college towns is a list of [university towns in the United States](https://en.wikipedia.org/wiki/List_of_college_towns#College_towns_in_the_United_States) which has been copy and pasted into the file ```university_towns.txt```.\n",
    "* From Bureau of Economic Analysis, US Department of Commerce, the [GDP over time](http://www.bea.gov/national/index.htm#gdp) of the United States in current dollars (use the chained value in 2009 dollars), in quarterly intervals, in the file ```gdplev.xls```. For this assignment, only look at GDP data from the first quarter of 2000 onward.\n",
    "\n",
    "Each function in this assignment below is worth 10%, with the exception of ```run_ttest()```, which is worth 50%."
   ]
  },
  {
   "cell_type": "code",
   "execution_count": 2,
   "metadata": {
    "collapsed": false
   },
   "outputs": [],
   "source": [
    "# Use this dictionary to map state names to two letter acronyms\n",
    "states = {'OH': 'Ohio', 'KY': 'Kentucky', 'AS': 'American Samoa', 'NV': 'Nevada', 'WY': 'Wyoming', 'NA': 'National', 'AL': 'Alabama', 'MD': 'Maryland', 'AK': 'Alaska', 'UT': 'Utah', 'OR': 'Oregon', 'MT': 'Montana', 'IL': 'Illinois', 'TN': 'Tennessee', 'DC': 'District of Columbia', 'VT': 'Vermont', 'ID': 'Idaho', 'AR': 'Arkansas', 'ME': 'Maine', 'WA': 'Washington', 'HI': 'Hawaii', 'WI': 'Wisconsin', 'MI': 'Michigan', 'IN': 'Indiana', 'NJ': 'New Jersey', 'AZ': 'Arizona', 'GU': 'Guam', 'MS': 'Mississippi', 'PR': 'Puerto Rico', 'NC': 'North Carolina', 'TX': 'Texas', 'SD': 'South Dakota', 'MP': 'Northern Mariana Islands', 'IA': 'Iowa', 'MO': 'Missouri', 'CT': 'Connecticut', 'WV': 'West Virginia', 'SC': 'South Carolina', 'LA': 'Louisiana', 'KS': 'Kansas', 'NY': 'New York', 'NE': 'Nebraska', 'OK': 'Oklahoma', 'FL': 'Florida', 'CA': 'California', 'CO': 'Colorado', 'PA': 'Pennsylvania', 'DE': 'Delaware', 'NM': 'New Mexico', 'RI': 'Rhode Island', 'MN': 'Minnesota', 'VI': 'Virgin Islands', 'NH': 'New Hampshire', 'MA': 'Massachusetts', 'GA': 'Georgia', 'ND': 'North Dakota', 'VA': 'Virginia'}"
   ]
  },
  {
   "cell_type": "code",
   "execution_count": 16,
   "metadata": {
    "collapsed": false
   },
   "outputs": [
    {
     "name": "stdout",
     "output_type": "stream",
     "text": [
      "Shape test:  Passed\n",
      "Index test:  Passed\n",
      "Column test:  Passed\n",
      "\\n test:  Passed\n",
      "Trailing whitespace test: Passed\n",
      "\"(\" test: Passed\n",
      "\"[\" test: Passed\n",
      "State test:  Passed\n",
      "RegionName test:  Passed\n"
     ]
    }
   ],
   "source": [
    "import pandas as pd\n",
    "def get_list_of_university_towns():\n",
    "    '''Returns a DataFrame of towns and the states they are in from the \n",
    "    university_towns.txt list. The format of the DataFrame should be:\n",
    "    DataFrame( [ [\"Michigan\", \"Ann Arbor\"], [\"Michigan\", \"Yipsilanti\"] ], \n",
    "    columns=[\"State\", \"RegionName\"]  )\n",
    "    \n",
    "    The following cleaning needs to be done:\n",
    "\n",
    "    1. For \"State\", removing characters from \"[\" to the end.\n",
    "    2. For \"RegionName\", when applicable, removing every character from \" (\" to the end.\n",
    "    3. Depending on how you read the data, you may need to remove newline character '\\n'. '''\n",
    "    list_of_University_towns = []\n",
    "    state = None\n",
    "    regionName = None\n",
    "    with open('university_towns.txt') as fileUni:\n",
    "        for l in fileUni:\n",
    "            l = l.rstrip('\\n')\n",
    "            if l.endswith('[edit]'):\n",
    "                index = l.find('[')\n",
    "                state = l[:index]\n",
    "                continue\n",
    "            else :\n",
    "                if '(' in l :\n",
    "                    regionIndex = l.find('(')\n",
    "                    regionName = l[:regionIndex - 1]\n",
    "                else :\n",
    "                    regionName = l\n",
    "            list_of_University_towns.append([state, regionName])\n",
    "    \n",
    "    return  pd.DataFrame(list_of_University_towns,\n",
    "                                     columns = ['State', 'RegionName'])\n",
    "    "
   ]
  },
  {
   "cell_type": "code",
   "execution_count": 5,
   "metadata": {
    "collapsed": false
   },
   "outputs": [],
   "source": [
    "def get_recession_start():\n",
    "    '''Returns the year and quarter of the recession start time as a \n",
    "    string value in a format such as 2005q3'''\n",
    "    gdp_data = pd.read_excel('gdplev.xls', skiprows = 220, header = None,\n",
    "                                      parse_cols = \"E,G\", names = np.array([\n",
    "                                             'Quater', '$Value']))\n",
    "    quater_values = gdp_data['$Value']\n",
    "    recession_start = None\n",
    "        \n",
    "    for i in range(quater_values.count()):\n",
    "        if quater_values.iloc[i] <  quater_values.iloc[i-1] and \\\n",
    "                quater_values.iloc[i+1] < quater_values.iloc[i]:\n",
    "                    recession_start = gdp_data.iloc[i]['Quater']\n",
    "                    break;\n",
    "            \n",
    "    return recession_start\n",
    "    "
   ]
  },
  {
   "cell_type": "code",
   "execution_count": 7,
   "metadata": {
    "collapsed": false
   },
   "outputs": [],
   "source": [
    "def get_recession_end():\n",
    "    '''Returns the year and quarter of the recession end time as a \n",
    "    string value in a format such as 2005q3'''\n",
    "    gdp_data = pd.read_excel('gdplev.xls', skiprows = 220, header = None,\n",
    "                                      parse_cols = \"E,G\", names = np.array([\n",
    "                                             'Quater', '$Value']))\n",
    "    recession_start_quater = get_recession_start()\n",
    "    recession_start_index  = gdp_data[\n",
    "                gdp_data['Quater'] == recession_start_quater].index[0]\n",
    "    \n",
    "    quater_values = gdp_data.loc[recession_start_index:,:]\n",
    "    values = quater_values['$Value']\n",
    "    recession_end = None\n",
    "       \n",
    "    for i in range(values.count()):\n",
    "        if values.iloc[i] > values.iloc[i - 1] and \\\n",
    "            values.iloc[i - 1] > values.iloc[i - 2]:\n",
    "                recession_end =  quater_values.iloc[i]['Quater']\n",
    "                break;\n",
    "                 \n",
    "    return recession_end\n",
    "       \n",
    "#get_recession_end()"
   ]
  },
  {
   "cell_type": "code",
   "execution_count": 8,
   "metadata": {
    "collapsed": false
   },
   "outputs": [],
   "source": [
    "def get_recession_bottom():\n",
    "    '''Returns the year and quarter of the recession bottom time as a \n",
    "    string value in a format such as 2005q3'''\n",
    "    gdp_data = pd.read_excel('gdplev.xls', skiprows = 220, header = None,\n",
    "                                      parse_cols = \"E,G\", names = np.array([\n",
    "                                             'Quater', '$Value']))\n",
    "    recession_start = get_recession_start()\n",
    "    recession_end   = get_recession_end()\n",
    "       \n",
    "    recession_start_index  = gdp_data[\n",
    "            gdp_data['Quater'] == recession_start].index[0]\n",
    "        \n",
    "    recession_end_index  = gdp_data[\n",
    "            gdp_data['Quater'] == recession_end].index[0]\n",
    "         \n",
    "    quater_values = gdp_data.loc[\n",
    "                recession_start_index:recession_end_index,:].set_index('Quater')\n",
    "        \n",
    "    return quater_values['$Value'].idxmin()\n",
    "#get_recession_bottom()  "
   ]
  },
  {
   "cell_type": "code",
   "execution_count": 9,
   "metadata": {
    "collapsed": false
   },
   "outputs": [],
   "source": [
    "def convert_housing_data_to_quarters():\n",
    "    '''Converts the housing data to quarters and returns it as mean \n",
    "    values in a dataframe. This dataframe should be a dataframe with\n",
    "    columns for 2000q1 through 2016q3, and should have a multi-index\n",
    "    in the shape of [\"State\",\"RegionName\"].\n",
    "    \n",
    "    Note: Quarters are defined in the assignment description, they are\n",
    "    not arbitrary three month periods.\n",
    "    \n",
    "    The resulting dataframe should have 67 columns, and 10,730 rows.\n",
    "    '''\n",
    "    m_all_homes_data = pd.read_csv('City_Zhvi_AllHomes.csv')\n",
    "        \n",
    "    cols = m_all_homes_data.columns\n",
    "    cols = cols [cols.get_loc('2000-01') : ]\n",
    "    tdf = m_all_homes_data[cols]\n",
    "    tdf.columns = pd.to_datetime(tdf.columns)\n",
    "    main_df = tdf.resample('Q',axis = 1).mean().rename(columns = \n",
    "                              lambda x : '{}q{}'.format(x.year,x.quarter))\n",
    "        \n",
    "    main_df['State'] = m_all_homes_data['State']\n",
    "    main_df['State'].replace(to_replace = \n",
    "            {'OH': 'Ohio', 'KY': 'Kentucky', \n",
    "            'AS': 'American Samoa', 'NV': 'Nevada', \n",
    "            'WY': 'Wyoming', 'NA': 'National', 'AL': 'Alabama',\n",
    "            'MD': 'Maryland', 'AK': 'Alaska', 'UT': 'Utah', \n",
    "            'OR': 'Oregon', 'MT': 'Montana', 'IL': 'Illinois',\n",
    "            'TN': 'Tennessee', 'DC': 'District of Columbia', \n",
    "            'VT': 'Vermont', 'ID': 'Idaho', 'AR': 'Arkansas', \n",
    "            'ME': 'Maine', 'WA': 'Washington', 'HI': 'Hawaii', \n",
    "            'WI': 'Wisconsin', 'MI': 'Michigan', 'IN': 'Indiana', \n",
    "            'NJ': 'New Jersey', 'AZ': 'Arizona', 'GU': 'Guam', \n",
    "            'MS': 'Mississippi', 'PR': 'Puerto Rico', \n",
    "            'NC': 'North Carolina', 'TX': 'Texas', 'SD': 'South Dakota',\n",
    "            'MP': 'Northern Mariana Islands', 'IA': 'Iowa',\n",
    "            'MO': 'Missouri', 'CT': 'Connecticut', 'WV': 'West Virginia',\n",
    "            'SC': 'South Carolina', 'LA': 'Louisiana', 'KS': 'Kansas', \n",
    "            'NY': 'New York', 'NE': 'Nebraska', 'OK': 'Oklahoma', \n",
    "            'FL': 'Florida', 'CA': 'California', 'CO': 'Colorado', \n",
    "            'PA': 'Pennsylvania', 'DE': 'Delaware', 'NM': 'New Mexico', \n",
    "            'RI': 'Rhode Island', 'MN': 'Minnesota', 'VI': 'Virgin Islands',\n",
    "            'NH': 'New Hampshire', 'MA': 'Massachusetts', 'GA': 'Georgia',\n",
    "            'ND': 'North Dakota', 'VA': 'Virginia'},inplace = True)\n",
    "        \n",
    "    main_df['RegionName'] = m_all_homes_data['RegionName']\n",
    "    main_df.set_index(['State','RegionName'],inplace = True)\n",
    "    \n",
    "    return main_df"
   ]
  },
  {
   "cell_type": "code",
   "execution_count": 10,
   "metadata": {
    "collapsed": false
   },
   "outputs": [
    {
     "data": {
      "text/plain": [
       "(True, 0.0030592742966576714, 'university town')"
      ]
     },
     "execution_count": 10,
     "metadata": {},
     "output_type": "execute_result"
    }
   ],
   "source": [
    "def run_ttest():\n",
    "    '''First creates new data showing the decline or growth of housing prices\n",
    "    between the recession start and the recession bottom. Then runs a ttest\n",
    "    comparing the university town values to the non-university towns values, \n",
    "    return whether the alternative hypothesis (that the two groups are the same)\n",
    "    is true or not as well as the p-value of the confidence. \n",
    "    \n",
    "    Return the tuple (different, p, better) where different=True if the t-test is\n",
    "    True at a p<0.01 (we reject the null hypothesis), or different=False if \n",
    "    otherwise (we cannot reject the null hypothesis). The variable p should\n",
    "    be equal to the exact p value returned from scipy.stats.ttest_ind(). The\n",
    "    value for better should be either \"university town\" or \"non-university town\"\n",
    "    depending on which has a lower mean price ratio (which is equivilent to a\n",
    "    reduced market loss).'''\n",
    "    hdf = convert_housing_data_to_quarters()\n",
    "    recession_start = get_recession_start()\n",
    "    recession_bottom = get_recession_bottom()\n",
    "    university_towns = get_list_of_university_towns()\n",
    "    quater_before_recession_start = hdf.columns[hdf.columns.\n",
    "                                                get_loc(recession_start)-1] \n",
    "        \n",
    "    hdf['price ratio'] = hdf[quater_before_recession_start].div(hdf[\n",
    "            recession_bottom])\n",
    "        \n",
    "    ul_tuple = [ tuple(x) for x in university_towns.values]\n",
    "        \n",
    "    ul_towns = hdf.loc[ul_tuple]\n",
    "    non_ul_towns = hdf.loc[~hdf.index.isin(ul_tuple)]\n",
    "        \n",
    "    t_result  = ttest_ind(non_ul_towns['price ratio'], ul_towns['price ratio'],\n",
    "                            nan_policy = 'omit' )\n",
    "    different = t_result.pvalue < 0.01 \n",
    "    p = t_result.pvalue\n",
    "    better = (\"non-university town\",\"university town\")[ \n",
    "            ul_towns['price ratio'].mean() < non_ul_towns['price ratio'].mean()]\n",
    "    return (different,p,better)\n",
    "run_ttest()"
   ]
  },
  {
   "cell_type": "code",
   "execution_count": null,
   "metadata": {
    "collapsed": true
   },
   "outputs": [],
   "source": []
  }
 ],
 "metadata": {
  "coursera": {
   "course_slug": "python-data-analysis",
   "graded_item_id": "Il9Fx",
   "launcher_item_id": "TeDW0",
   "part_id": "WGlun"
  },
  "kernelspec": {
   "display_name": "Python 3",
   "language": "python",
   "name": "python3"
  },
  "language_info": {
   "codemirror_mode": {
    "name": "ipython",
    "version": 3
   },
   "file_extension": ".py",
   "mimetype": "text/x-python",
   "name": "python",
   "nbconvert_exporter": "python",
   "pygments_lexer": "ipython3",
   "version": "3.5.2"
  }
 },
 "nbformat": 4,
 "nbformat_minor": 0
}
